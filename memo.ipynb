{
 "cells": [
  {
   "cell_type": "code",
   "execution_count": null,
   "metadata": {},
   "outputs": [],
   "source": [
    "import torch\n"
   ]
  },
  {
   "cell_type": "code",
   "execution_count": null,
   "metadata": {},
   "outputs": [],
   "source": [
    "one_batch_049 = \"experiments/lasso_one_batch/total_indices_stayed.pt\"\n",
    "whole_batch_049 = \"experiments/lasso_whole_batch/total_indices_stayed.pt\"\n",
    "all_classes_049 = \"experiments/lasso_all_class/total_indices_stayed.pt\"\n",
    "\n",
    "one_batch_03 = \"experiments/lasso_one_batch__0.3/total_indices_stayed.pt\"\n",
    "whole_batch_03 = \"experiments/lasso_whole_batch__0.3/total_indices_stayed.pt\"\n",
    "all_classes_03 = \"experiments/lasso_all_class__0.3/total_indices_stayed.pt\"\n"
   ]
  }
 ],
 "metadata": {
  "language_info": {
   "name": "python"
  },
  "orig_nbformat": 4
 },
 "nbformat": 4,
 "nbformat_minor": 2
}
